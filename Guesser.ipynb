{
 "cells": [
  {
   "cell_type": "code",
   "execution_count": 26,
   "id": "c1820cee",
   "metadata": {},
   "outputs": [],
   "source": [
    "#Libraries\n",
    "import pandas as pd\n",
    "import matplotlib.pyplot as plt\n",
    "import numpy as np"
   ]
  },
  {
   "cell_type": "code",
   "execution_count": 27,
   "id": "0792133e",
   "metadata": {},
   "outputs": [],
   "source": [
    "#Importing Dataset\n",
    "dataset = pd.read_csv('/home/quartesa/Desktop/Machine Learning/1.Regressions/House_Price_Guesser/dataset.csv')\n",
    "x = dataset.iloc[:,1:-1].values\n",
    "y = dataset.iloc[:,-1].values"
   ]
  },
  {
   "cell_type": "code",
   "execution_count": 28,
   "id": "0f9aa8db",
   "metadata": {},
   "outputs": [],
   "source": [
    "#Encoding Data(House Location)\n",
    "from sklearn.preprocessing import LabelEncoder\n",
    "encoder = LabelEncoder()\n",
    "x[:,2] = encoder.fit_transform(x[:,2])"
   ]
  },
  {
   "cell_type": "code",
   "execution_count": 29,
   "id": "5fdd21f3",
   "metadata": {},
   "outputs": [
    {
     "data": {
      "text/html": [
       "<style>#sk-container-id-4 {color: black;}#sk-container-id-4 pre{padding: 0;}#sk-container-id-4 div.sk-toggleable {background-color: white;}#sk-container-id-4 label.sk-toggleable__label {cursor: pointer;display: block;width: 100%;margin-bottom: 0;padding: 0.3em;box-sizing: border-box;text-align: center;}#sk-container-id-4 label.sk-toggleable__label-arrow:before {content: \"▸\";float: left;margin-right: 0.25em;color: #696969;}#sk-container-id-4 label.sk-toggleable__label-arrow:hover:before {color: black;}#sk-container-id-4 div.sk-estimator:hover label.sk-toggleable__label-arrow:before {color: black;}#sk-container-id-4 div.sk-toggleable__content {max-height: 0;max-width: 0;overflow: hidden;text-align: left;background-color: #f0f8ff;}#sk-container-id-4 div.sk-toggleable__content pre {margin: 0.2em;color: black;border-radius: 0.25em;background-color: #f0f8ff;}#sk-container-id-4 input.sk-toggleable__control:checked~div.sk-toggleable__content {max-height: 200px;max-width: 100%;overflow: auto;}#sk-container-id-4 input.sk-toggleable__control:checked~label.sk-toggleable__label-arrow:before {content: \"▾\";}#sk-container-id-4 div.sk-estimator input.sk-toggleable__control:checked~label.sk-toggleable__label {background-color: #d4ebff;}#sk-container-id-4 div.sk-label input.sk-toggleable__control:checked~label.sk-toggleable__label {background-color: #d4ebff;}#sk-container-id-4 input.sk-hidden--visually {border: 0;clip: rect(1px 1px 1px 1px);clip: rect(1px, 1px, 1px, 1px);height: 1px;margin: -1px;overflow: hidden;padding: 0;position: absolute;width: 1px;}#sk-container-id-4 div.sk-estimator {font-family: monospace;background-color: #f0f8ff;border: 1px dotted black;border-radius: 0.25em;box-sizing: border-box;margin-bottom: 0.5em;}#sk-container-id-4 div.sk-estimator:hover {background-color: #d4ebff;}#sk-container-id-4 div.sk-parallel-item::after {content: \"\";width: 100%;border-bottom: 1px solid gray;flex-grow: 1;}#sk-container-id-4 div.sk-label:hover label.sk-toggleable__label {background-color: #d4ebff;}#sk-container-id-4 div.sk-serial::before {content: \"\";position: absolute;border-left: 1px solid gray;box-sizing: border-box;top: 0;bottom: 0;left: 50%;z-index: 0;}#sk-container-id-4 div.sk-serial {display: flex;flex-direction: column;align-items: center;background-color: white;padding-right: 0.2em;padding-left: 0.2em;position: relative;}#sk-container-id-4 div.sk-item {position: relative;z-index: 1;}#sk-container-id-4 div.sk-parallel {display: flex;align-items: stretch;justify-content: center;background-color: white;position: relative;}#sk-container-id-4 div.sk-item::before, #sk-container-id-4 div.sk-parallel-item::before {content: \"\";position: absolute;border-left: 1px solid gray;box-sizing: border-box;top: 0;bottom: 0;left: 50%;z-index: -1;}#sk-container-id-4 div.sk-parallel-item {display: flex;flex-direction: column;z-index: 1;position: relative;background-color: white;}#sk-container-id-4 div.sk-parallel-item:first-child::after {align-self: flex-end;width: 50%;}#sk-container-id-4 div.sk-parallel-item:last-child::after {align-self: flex-start;width: 50%;}#sk-container-id-4 div.sk-parallel-item:only-child::after {width: 0;}#sk-container-id-4 div.sk-dashed-wrapped {border: 1px dashed gray;margin: 0 0.4em 0.5em 0.4em;box-sizing: border-box;padding-bottom: 0.4em;background-color: white;}#sk-container-id-4 div.sk-label label {font-family: monospace;font-weight: bold;display: inline-block;line-height: 1.2em;}#sk-container-id-4 div.sk-label-container {text-align: center;}#sk-container-id-4 div.sk-container {/* jupyter's `normalize.less` sets `[hidden] { display: none; }` but bootstrap.min.css set `[hidden] { display: none !important; }` so we also need the `!important` here to be able to override the default hidden behavior on the sphinx rendered scikit-learn.org. See: https://github.com/scikit-learn/scikit-learn/issues/21755 */display: inline-block !important;position: relative;}#sk-container-id-4 div.sk-text-repr-fallback {display: none;}</style><div id=\"sk-container-id-4\" class=\"sk-top-container\"><div class=\"sk-text-repr-fallback\"><pre>LinearRegression()</pre><b>In a Jupyter environment, please rerun this cell to show the HTML representation or trust the notebook. <br />On GitHub, the HTML representation is unable to render, please try loading this page with nbviewer.org.</b></div><div class=\"sk-container\" hidden><div class=\"sk-item\"><div class=\"sk-estimator sk-toggleable\"><input class=\"sk-toggleable__control sk-hidden--visually\" id=\"sk-estimator-id-4\" type=\"checkbox\" checked><label for=\"sk-estimator-id-4\" class=\"sk-toggleable__label sk-toggleable__label-arrow\">LinearRegression</label><div class=\"sk-toggleable__content\"><pre>LinearRegression()</pre></div></div></div></div></div>"
      ],
      "text/plain": [
       "LinearRegression()"
      ]
     },
     "execution_count": 29,
     "metadata": {},
     "output_type": "execute_result"
    }
   ],
   "source": [
    "#Model Selection(Linear Regression)\n",
    "from sklearn.linear_model import LinearRegression\n",
    "lin_reg = LinearRegression()\n",
    "lin_reg.fit(x,y)"
   ]
  },
  {
   "cell_type": "code",
   "execution_count": 30,
   "id": "014ea016",
   "metadata": {},
   "outputs": [
    {
     "name": "stdout",
     "output_type": "stream",
     "text": [
      "Linear Regression R2: 0.9757061629949462\n"
     ]
    }
   ],
   "source": [
    "#Linear Regression R2 Score\n",
    "from sklearn.metrics import r2_score\n",
    "y_pred = lin_reg.predict(x)\n",
    "print('Linear Regression R2: {}'.format(r2_score(y,y_pred)))"
   ]
  },
  {
   "cell_type": "markdown",
   "id": "c46d8ae7",
   "metadata": {},
   "source": [
    "### Linear Regression's R2 Score is quite well so i am not going to try finding another model"
   ]
  },
  {
   "cell_type": "code",
   "execution_count": 32,
   "id": "af184536",
   "metadata": {
    "scrolled": false
   },
   "outputs": [
    {
     "name": "stdout",
     "output_type": "stream",
     "text": [
      "[[3 150 0 2005]\n",
      " [4 200 1 2010]\n",
      " [2 100 0 1998]\n",
      " [5 250 1 2015]\n",
      " [4 180 0 2012]\n",
      " [3 130 0 2008]\n",
      " [4 220 1 2017]\n",
      " [2 95 1 2000]\n",
      " [3 140 0 2006]\n",
      " [5 270 1 2020]\n",
      " [3 160 0 2009]\n",
      " [4 190 1 2013]\n",
      " [2 110 1 2002]\n",
      " [3 135 0 2007]\n",
      " [4 210 0 2014]\n",
      " [2 105 0 2001]\n",
      " [5 260 1 2019]\n",
      " [3 155 1 2011]\n",
      " [4 195 0 2016]\n",
      " [2 120 0 2003]\n",
      " [3 165 0 2010]\n",
      " [4 205 1 2015]\n",
      " [2 95 0 1999]\n",
      " [5 245 1 2018]\n",
      " [4 175 0 2013]\n",
      " [3 125 0 2007]\n",
      " [4 215 1 2016]\n",
      " [2 100 1 2001]\n",
      " [3 145 0 2005]\n",
      " [5 275 1 2021]\n",
      " [3 155 0 2011]\n",
      " [4 185 1 2014]\n",
      " [2 115 1 2003]\n",
      " [3 140 0 2008]\n",
      " [4 220 0 2015]\n",
      " [2 110 0 2002]\n",
      " [5 255 1 2020]\n",
      " [3 160 1 2012]\n",
      " [4 200 0 2017]\n",
      " [2 125 0 2004]\n",
      " [3 170 0 2009]\n",
      " [4 210 1 2016]\n",
      " [2 95 1 2000]\n",
      " [3 145 0 2006]\n",
      " [4 225 1 2017]\n",
      " [2 105 0 2001]\n",
      " [5 265 0 2018]\n",
      " [3 150 1 2013]\n",
      " [4 195 1 2019]\n",
      " [2 115 0 2004]\n",
      " [3 165 0 2011]\n",
      " [4 215 1 2016]\n",
      " [2 100 0 1999]\n",
      " [3 150 1 2005]\n",
      " [4 230 0 2014]\n",
      " [2 110 1 2003]\n",
      " [5 260 0 2019]\n",
      " [3 155 0 2010]\n",
      " [4 195 1 2015]\n",
      " [2 120 0 2006]\n",
      " [3 170 1 2012]\n",
      " [4 200 0 2017]\n",
      " [2 125 1 2004]\n",
      " [3 155 1 2011]\n",
      " [4 210 0 2016]\n",
      " [2 100 0 2000]\n",
      " [5 240 1 2015]\n",
      " [3 145 0 2012]\n",
      " [4 185 1 2017]\n",
      " [2 110 0 2003]\n",
      " [3 160 0 2010]\n",
      " [4 220 1 2016]\n",
      " [2 105 1 2001]\n",
      " [3 140 0 2008]\n",
      " [4 205 0 2015]\n",
      " [2 95 1 2002]\n",
      " [3 135 0 2009]\n",
      " [4 210 1 2014]\n",
      " [2 115 1 2005]\n",
      " [3 160 1 2011]\n",
      " [4 195 0 2017]\n",
      " [2 120 1 2006]\n",
      " [3 165 0 2013]\n",
      " [4 220 0 2018]\n",
      " [2 105 1 2003]\n",
      " [5 255 0 2020]\n",
      " [3 150 0 2007]\n",
      " [4 200 1 2014]\n",
      " [2 100 0 1999]\n",
      " [3 155 0 2008]\n",
      " [4 210 1 2015]\n",
      " [2 110 1 2001]\n",
      " [3 140 0 2006]\n",
      " [4 215 0 2013]\n",
      " [2 95 1 2002]\n",
      " [3 135 1 2009]\n",
      " [4 200 0 2016]\n",
      " [2 120 1 2003]\n",
      " [3 160 0 2010]\n",
      " [4 215 1 2017]]\n"
     ]
    },
    {
     "data": {
      "text/plain": [
       "'\\nCentral Coded with 0\\nSuburban Coded with 1\\n'"
      ]
     },
     "execution_count": 32,
     "metadata": {},
     "output_type": "execute_result"
    }
   ],
   "source": [
    "#Checking X\n",
    "print(x)\n",
    "\"\"\"\n",
    "Central Coded with 0\n",
    "Suburban Coded with 1\n",
    "\"\"\""
   ]
  },
  {
   "cell_type": "code",
   "execution_count": 33,
   "id": "10c1618d",
   "metadata": {},
   "outputs": [
    {
     "name": "stdout",
     "output_type": "stream",
     "text": [
      "House Price: [305113.98267369]\n"
     ]
    }
   ],
   "source": [
    "#Predicting A Price\n",
    "print('House Price: {}'.format(lin_reg.predict([[4,190,0,2009]])))"
   ]
  },
  {
   "cell_type": "markdown",
   "id": "ae055487",
   "metadata": {},
   "source": [
    "### It is a good Guess Our Guesser Finish in Here"
   ]
  }
 ],
 "metadata": {
  "kernelspec": {
   "display_name": "Python 3 (ipykernel)",
   "language": "python",
   "name": "python3"
  },
  "language_info": {
   "codemirror_mode": {
    "name": "ipython",
    "version": 3
   },
   "file_extension": ".py",
   "mimetype": "text/x-python",
   "name": "python",
   "nbconvert_exporter": "python",
   "pygments_lexer": "ipython3",
   "version": "3.11.4"
  }
 },
 "nbformat": 4,
 "nbformat_minor": 5
}
